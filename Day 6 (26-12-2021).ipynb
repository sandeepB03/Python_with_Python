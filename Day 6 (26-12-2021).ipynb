{
 "cells": [
  {
   "cell_type": "markdown",
   "id": "46188aa2",
   "metadata": {},
   "source": [
    "# Operators\n",
    "- oprators are used to perform to do specific task"
   ]
  },
  {
   "cell_type": "code",
   "execution_count": 2,
   "id": "05df0445",
   "metadata": {},
   "outputs": [
    {
     "name": "stdout",
     "output_type": "stream",
     "text": [
      "12\n",
      "8\n",
      "20\n",
      "5.0\n",
      "0\n",
      "100\n",
      "5\n"
     ]
    }
   ],
   "source": [
    "x=10\n",
    "y=2\n",
    "print(x+y)\n",
    "print(x-y)\n",
    "print(x*y)\n",
    "print(x/y)\n",
    "print(x%y)\n",
    "print(x**y)\n",
    "print(x//y)"
   ]
  },
  {
   "cell_type": "markdown",
   "id": "40ead613",
   "metadata": {},
   "source": [
    "# Assignment operator:\n",
    "- used to assaign values to operator\n",
    "- operators are\n",
    "    - **=**\n",
    "    - **+=**\n",
    "    - **-=**\n",
    "    - ***=**\n",
    "    - **/=**\n",
    "    - ****=**\n",
    "    - **%=**\n",
    "    - **//**\n",
    "    "
   ]
  },
  {
   "cell_type": "code",
   "execution_count": 12,
   "id": "167cb0b0",
   "metadata": {},
   "outputs": [
    {
     "name": "stdout",
     "output_type": "stream",
     "text": [
      "11\n",
      "7\n",
      "21\n",
      "7.0\n",
      "343.0\n",
      "3.0\n",
      "3.0\n"
     ]
    }
   ],
   "source": [
    "x=5\n",
    "x+=6\n",
    "print(x)\n",
    "x-=4\n",
    "print(x)\n",
    "x *=3\n",
    "print(x)\n",
    "x/=3\n",
    "print(x)\n",
    "x**=3\n",
    "print(x)\n",
    "x%=4\n",
    "print(x)\n",
    "x//2\n",
    "print(x)"
   ]
  },
  {
   "cell_type": "markdown",
   "id": "11e7cb91",
   "metadata": {},
   "source": [
    "# comparasion operators:\n",
    "- =\n",
    "- ==\n",
    "- !=\n",
    "- <\n",
    "- >\n",
    "- <=\n",
    "- >="
   ]
  },
  {
   "cell_type": "code",
   "execution_count": 15,
   "id": "e871bb75",
   "metadata": {},
   "outputs": [
    {
     "name": "stdout",
     "output_type": "stream",
     "text": [
      "False\n",
      "True\n",
      "True\n",
      "False\n",
      "True\n",
      "False\n"
     ]
    }
   ],
   "source": [
    "x=6\n",
    "y=9\n",
    "print(x == y)\n",
    "print(x != y)\n",
    "print(x < y)\n",
    "print(x > y)\n",
    "print(x <= y)\n",
    "print(x >= y)"
   ]
  },
  {
   "cell_type": "code",
   "execution_count": null,
   "id": "b1f47fe5",
   "metadata": {},
   "outputs": [],
   "source": []
  }
 ],
 "metadata": {
  "kernelspec": {
   "display_name": "Python 3 (ipykernel)",
   "language": "python",
   "name": "python3"
  },
  "language_info": {
   "codemirror_mode": {
    "name": "ipython",
    "version": 3
   },
   "file_extension": ".py",
   "mimetype": "text/x-python",
   "name": "python",
   "nbconvert_exporter": "python",
   "pygments_lexer": "ipython3",
   "version": "3.9.7"
  }
 },
 "nbformat": 4,
 "nbformat_minor": 5
}
